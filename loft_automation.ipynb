{
  "nbformat": 4,
  "nbformat_minor": 0,
  "metadata": {
    "colab": {
      "name": "loft_automation.ipynb",
      "provenance": [],
      "collapsed_sections": [],
      "authorship_tag": "ABX9TyP9oFTLfKtrZwmWz4HxGbft",
      "include_colab_link": true
    },
    "kernelspec": {
      "name": "python3",
      "display_name": "Python 3"
    }
  },
  "cells": [
    {
      "cell_type": "markdown",
      "metadata": {
        "id": "view-in-github",
        "colab_type": "text"
      },
      "source": [
        "<a href=\"https://colab.research.google.com/github/WellHarper/Loft_Automation/blob/main/loft_automation.ipynb\" target=\"_parent\"><img src=\"https://colab.research.google.com/assets/colab-badge.svg\" alt=\"Open In Colab\"/></a>"
      ]
    },
    {
      "cell_type": "markdown",
      "metadata": {
        "id": "-nVANfkixDuo"
      },
      "source": [
        "# Automatização de parte do fluxo de cadastro de fornecedores"
      ]
    },
    {
      "cell_type": "markdown",
      "metadata": {
        "id": "TRglyuILxjKs"
      },
      "source": [
        "Importação de bibliotecas\r\n",
        "\r\n"
      ]
    },
    {
      "cell_type": "code",
      "metadata": {
        "id": "S5FNEvM9Fiwo"
      },
      "source": [
        "import requests\r\n",
        "import json"
      ],
      "execution_count": null,
      "outputs": []
    },
    {
      "cell_type": "markdown",
      "metadata": {
        "id": "snv0q_80G9uQ"
      },
      "source": [
        "# Criando funções\r\n",
        "\r\n",
        "  Infelizmente a API para buscar os dados é paga, portanto as funções não retornaram apenas um print de o que deveria retornar. Todas as funções foram montadas usando a especificação como exemplo.\r\n",
        "\r\n",
        "  Em cada função tem um comentário com um print, esse print seria a forma na qual eu buscaria o resultado caso eu tivesse pago a API.\r\n",
        "\r\n",
        "Especificação busca na Receita Federal:\r\n",
        "- https://www.sintegraws.com.br/api/documentacao-api-receita-federal.php\r\n",
        "\r\n",
        "Especificação busca no Sintegra: \r\n",
        "- https://www.sintegraws.com.br/api/documentacao-api-sintegra.php\r\n",
        "\r\n",
        "Especificação busca no Simples Nacional:\r\n",
        "- https://www.sintegraws.com.br/api/documentacao-api-simples-nacional.php\r\n",
        "\r\n"
      ]
    },
    {
      "cell_type": "markdown",
      "metadata": {
        "id": "gl_a0eFEFsZO"
      },
      "source": [
        "Criando Função que busca CNPJ"
      ]
    },
    {
      "cell_type": "code",
      "metadata": {
        "colab": {
          "base_uri": "https://localhost:8080/"
        },
        "id": "mhU_4oRsFqEG",
        "outputId": "1c61d688-45e1-4269-f802-199871caaa77"
      },
      "source": [
        "def buscar_dados_rf(TOKEN, CNPJ ):\r\n",
        "    request = requests.get(f\"https://www.sintegraws.com.br/api/v1/execute-api.php?token={TOKEN}&cnpj={CNPJ}&plugin=RF\")\r\n",
        "    todo = json.loads(request.content)\r\n",
        "    #print(todo['situação'])\r\n",
        "    print(\"Situação: Ativo\")\r\n",
        "\r\n",
        "buscar_dados_rf(\"AD0254E4-DBD5-4224-B65A-53AF872B0EC0\",'42498600000171')"
      ],
      "execution_count": null,
      "outputs": [
        {
          "output_type": "stream",
          "text": [
            "Situação: Ativo\n"
          ],
          "name": "stdout"
        }
      ]
    },
    {
      "cell_type": "markdown",
      "metadata": {
        "id": "deLqE7gQG69Q"
      },
      "source": [
        "Criando função de consulta no sintegra"
      ]
    },
    {
      "cell_type": "code",
      "metadata": {
        "colab": {
          "base_uri": "https://localhost:8080/"
        },
        "id": "ZpaYSZunISCx",
        "outputId": "7cda0005-9a45-46e5-90ff-8c7058e9cb3d"
      },
      "source": [
        "def buscar_dados_st(TOKEN, CNPJ ):\r\n",
        "    request = requests.get(f\"https://www.sintegraws.com.br/api/v1/execute-api.php?token={TOKEN}&cnpj={CNPJ}&plugin=ST\")\r\n",
        "    todo = json.loads(request.content)\r\n",
        "    #print(todo['inscricao_estadual'])\r\n",
        "    print(\"Inscrição estadual: 149848403115\")\r\n",
        "\r\n",
        "buscar_dados_st(\"AD0254E4-DBD5-4224-B65A-53AF872B0EC0\",'42498600000171')"
      ],
      "execution_count": null,
      "outputs": [
        {
          "output_type": "stream",
          "text": [
            "Inscrição estadual: 149848403115\n"
          ],
          "name": "stdout"
        }
      ]
    },
    {
      "cell_type": "markdown",
      "metadata": {
        "id": "1knFcRJIJXh7"
      },
      "source": [
        "Criando função de consulta no Simples Nacional"
      ]
    },
    {
      "cell_type": "code",
      "metadata": {
        "colab": {
          "base_uri": "https://localhost:8080/"
        },
        "id": "TGJKnGdBYWvE",
        "outputId": "221a08d2-20ce-41e7-e04f-b168db29d024"
      },
      "source": [
        "def buscar_dados_sn(TOKEN, CNPJ ):\r\n",
        "    request = requests.get(f\"https://www.sintegraws.com.br/api/v1/execute-api.php?token={TOKEN}&cnpj={CNPJ}&plugin=SN\")\r\n",
        "    todo = json.loads(request.content)\r\n",
        "    #print(todo['situacao_simples_nacional'])\r\n",
        "    print(\"Não optante pelo simples nacional\")\r\n",
        "\r\n",
        "buscar_dados_sn(\"AD0254E4-DBD5-4224-B65A-53AF872B0EC0\",'42498600000171')"
      ],
      "execution_count": null,
      "outputs": [
        {
          "output_type": "stream",
          "text": [
            "Não optante pelo simples nacional\n"
          ],
          "name": "stdout"
        }
      ]
    }
  ]
}